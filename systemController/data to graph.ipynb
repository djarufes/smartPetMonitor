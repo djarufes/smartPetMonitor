{
 "cells": [
  {
   "cell_type": "code",
   "execution_count": 1,
   "id": "fa4ee19f",
   "metadata": {},
   "outputs": [],
   "source": [
    "import pandas as pd\n",
    "import matplotlib.pyplot as plt"
   ]
  },
  {
   "cell_type": "code",
   "execution_count": 28,
   "id": "2c185881",
   "metadata": {
    "scrolled": true
   },
   "outputs": [
    {
     "name": "stdout",
     "output_type": "stream",
     "text": [
      "   timestamp  eat  drink\n",
      "1   22:05:13  1.0    0.0\n",
      "3   22:05:14  1.0    0.0\n",
      "5   22:05:16  1.0    1.0\n",
      "7   22:05:17  1.0    0.0\n",
      "9   22:05:18  1.0    0.0\n",
      "11  22:05:19  0.0    0.0\n",
      "13  22:05:20  0.0    1.0\n",
      "15  22:05:21  0.0    1.0\n",
      "17  22:05:22  0.0    1.0\n",
      "19  22:05:23  0.0    1.0\n",
      "21  22:05:24  0.0    1.0\n",
      "23  22:05:25  0.0    0.0\n",
      "25  22:05:26  0.0    1.0\n",
      "27  22:05:28  0.0    1.0\n",
      "29  22:05:29  1.0    1.0\n",
      "31  22:05:30  1.0    1.0\n",
      "['22:05:13', '22:05:14', '22:05:16', '22:05:17', '22:05:18', '22:05:19', '22:05:20', '22:05:21', '22:05:22', '22:05:23', '22:05:24', '22:05:25', '22:05:26', '22:05:28', '22:05:29', '22:05:30'] [1.0, 1.0, 1.0, 1.0, 1.0, 0.0, 0.0, 0.0, 0.0, 0.0, 0.0, 0.0, 0.0, 0.0, 1.0, 1.0] [0.0, 0.0, 1.0, 0.0, 0.0, 0.0, 1.0, 1.0, 1.0, 1.0, 1.0, 0.0, 1.0, 1.0, 1.0, 1.0]\n"
     ]
    }
   ],
   "source": [
    "audio_data = pd.read_csv('audio_data.csv')\n",
    "audio_data = audio_data.dropna(how='all')\n",
    "audio_data = audio_data.dropna(axis='columns',how='all')\n",
    "print(audio_data)\n",
    "\n",
    "time = audio_data['timestamp'].to_list()\n",
    "eating = audio_data['eat'].to_list()\n",
    "drinking = audio_data['drink'].to_list()\n",
    "print(time,eating,drinking)"
   ]
  },
  {
   "cell_type": "code",
   "execution_count": 29,
   "id": "fe6ef2b6",
   "metadata": {},
   "outputs": [
    {
     "data": {
      "text/plain": [
       "[0.0,\n",
       " 0.0,\n",
       " 1.0,\n",
       " 0.0,\n",
       " 0.0,\n",
       " 0.0,\n",
       " 1.0,\n",
       " 1.0,\n",
       " 1.0,\n",
       " 1.0,\n",
       " 1.0,\n",
       " 0.0,\n",
       " 1.0,\n",
       " 1.0,\n",
       " 1.0,\n",
       " 1.0]"
      ]
     },
     "execution_count": 29,
     "metadata": {},
     "output_type": "execute_result"
    }
   ],
   "source": [
    "drinking"
   ]
  },
  {
   "cell_type": "code",
   "execution_count": 30,
   "id": "517771ed",
   "metadata": {},
   "outputs": [
    {
     "name": "stdout",
     "output_type": "stream",
     "text": [
      "['22:05:13', '22:05:18', '22:05:22', '22:05:26'] [0.0, 1.0, 3.0, 3.0]\n"
     ]
    }
   ],
   "source": [
    "# Drinking Behavior Graph\n",
    "# Amount vs time\n",
    "# Group 4 data, add total drinking seconds.\n",
    "# Rate => 0.4mL water consumed per second\n",
    "\n",
    "data_x = []\n",
    "data_y = []\n",
    "drink_sum = 0\n",
    "\n",
    "for index, value in enumerate(time): \n",
    "    drink_sum = drink_sum + drinking[index]\n",
    "#     print(index, drink_sum)\n",
    "    if index % 4 == 0: \n",
    "        data_x.append(value)\n",
    "        data_y.append(drink_sum)\n",
    "        drink_sum = 0 \n",
    "\n",
    "print(data_x, data_y)\n",
    "    "
   ]
  },
  {
   "cell_type": "code",
   "execution_count": null,
   "id": "0a86d43f",
   "metadata": {},
   "outputs": [],
   "source": []
  }
 ],
 "metadata": {
  "kernelspec": {
   "display_name": "Python 3 (ipykernel)",
   "language": "python",
   "name": "python3"
  },
  "language_info": {
   "codemirror_mode": {
    "name": "ipython",
    "version": 3
   },
   "file_extension": ".py",
   "mimetype": "text/x-python",
   "name": "python",
   "nbconvert_exporter": "python",
   "pygments_lexer": "ipython3",
   "version": "3.9.7"
  }
 },
 "nbformat": 4,
 "nbformat_minor": 5
}
