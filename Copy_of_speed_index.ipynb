{
  "nbformat": 4,
  "nbformat_minor": 0,
  "metadata": {
    "colab": {
      "name": "Copy of speed_index.ipynb",
      "provenance": [],
      "authorship_tag": "ABX9TyOwz1N1mFWs51kO7Hn6lCXj",
      "include_colab_link": true
    },
    "kernelspec": {
      "name": "python3",
      "display_name": "Python 3"
    },
    "language_info": {
      "name": "python"
    }
  },
  "cells": [
    {
      "cell_type": "markdown",
      "metadata": {
        "id": "view-in-github",
        "colab_type": "text"
      },
      "source": [
        "<a href=\"https://colab.research.google.com/github/djarufes/smartPetMonitor/blob/main/Copy_of_speed_index.ipynb\" target=\"_parent\"><img src=\"https://colab.research.google.com/assets/colab-badge.svg\" alt=\"Open In Colab\"/></a>"
      ]
    },
    {
      "cell_type": "code",
      "execution_count": null,
      "metadata": {
        "colab": {
          "base_uri": "https://localhost:8080/"
        },
        "id": "JPxFXME2tMrE",
        "outputId": "3085e339-58e3-4499-947c-88bdcdd483c6"
      },
      "outputs": [
        {
          "output_type": "stream",
          "name": "stdout",
          "text": [
            "1.118033988749895\n",
            "walking\n"
          ]
        }
      ],
      "source": [
        "frame1 = [5, 10]\n",
        "frame2 = [10, 20]\n",
        "duration = 10\n",
        "\n",
        "# distance between the centers (Euclidean distance):\n",
        "distance = ((frame1[0]-frame2[0])**2 + (frame1[1]-frame2[1])**2)**(1/2)\n",
        "speed = distance/duration\n",
        "print(speed)\n",
        "\n",
        "# creating an index:\n",
        "# speed 0 is rest and 30mph is 100.\n",
        "# convert speed to mph. speed calculated above would be in pixel per second.\n",
        "# speed *= 1.644E-7\n",
        "indexed_speed = (speed/30)*100\n",
        "\n",
        "# determine rest/walking/running:\n",
        "state = \"unknown\"\n",
        "if indexed_speed > 10:\n",
        "    state = \"running\"\n",
        "elif indexed_speed > 1:\n",
        "    state = \"walking\"\n",
        "else:\n",
        "    state = \"rest\"\n",
        "    \n",
        "print(state)"
      ]
    }
  ]
}