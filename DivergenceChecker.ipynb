{
  "nbformat": 4,
  "nbformat_minor": 0,
  "metadata": {
    "colab": {
      "name": "DivergenceChecker.ipynb",
      "provenance": [],
      "authorship_tag": "ABX9TyOC9j0DZU9oiaJ7pVEg5UfO",
      "include_colab_link": true
    },
    "kernelspec": {
      "name": "python3",
      "display_name": "Python 3"
    },
    "language_info": {
      "name": "python"
    }
  },
  "cells": [
    {
      "cell_type": "markdown",
      "metadata": {
        "id": "view-in-github",
        "colab_type": "text"
      },
      "source": [
        "<a href=\"https://colab.research.google.com/github/djarufes/smartPetMonitor/blob/main/DivergenceChecker.ipynb\" target=\"_parent\"><img src=\"https://colab.research.google.com/assets/colab-badge.svg\" alt=\"Open In Colab\"/></a>"
      ]
    },
    {
      "cell_type": "code",
      "execution_count": 43,
      "metadata": {
        "colab": {
          "base_uri": "https://localhost:8080/"
        },
        "id": "Nq1PpCduDCQG",
        "outputId": "bb1ed975-568c-4188-c1c8-e82bce84d346"
      },
      "outputs": [
        {
          "output_type": "stream",
          "name": "stdout",
          "text": [
            "Mounted at /content/drive\n"
          ]
        }
      ],
      "source": [
        "from google.colab import drive\n",
        "drive.mount('/content/drive', force_remount = True)\n",
        "\n"
      ]
    },
    {
      "cell_type": "code",
      "source": [
        "import csv\n",
        "\n",
        "def avgWaterConsumed (WaterData):\n",
        "  total = 0\n",
        "  count = 0\n",
        "  min = 100\n",
        "  max = 0\n",
        "  for index in WaterData:\n",
        "    #print(int(index))\n",
        "    total += int(index)\n",
        "    count += 1\n",
        "    if int(index) < min:\n",
        "      min = int(index)\n",
        "    if int(index) > max:\n",
        "      max = int(index)\n",
        "  range = max - min\n",
        "  #print(range)\n",
        "  #print(max, min)\n",
        "  avgWaterConsumed = total/count\n",
        "  return avgWaterConsumed, range\n",
        "\n",
        "def avgEatingTime (EatingData):\n",
        "  total = 0\n",
        "  count = 0\n",
        "  min = 100\n",
        "  max = 0\n",
        "  for index in EatingData:\n",
        "    total += int(index)\n",
        "    count += 1\n",
        "    if int(index) < min:\n",
        "      min = int(index)\n",
        "    if int(index) > max:\n",
        "      max = int(index)\n",
        "  range = max - min\n",
        "  avgEatingTime = total/count\n",
        "  return avgEatingTime, range\n",
        "\n",
        "def avgActivity (ActivityData):\n",
        "  total = 0\n",
        "  count = 0\n",
        "  min = 100\n",
        "  max = 0\n",
        "  for index in ActivityData:\n",
        "    total += int(index)\n",
        "    count += 1\n",
        "    if int(index) < min:\n",
        "      min = int(index)\n",
        "    if int(index) > max:\n",
        "      max = int(index)\n",
        "  range = max - min\n",
        "  avgActivity = total/count\n",
        "  return avgActivity, range\n",
        "\n",
        "def CurrentData():\n",
        "  Filename = \"/content/drive/MyDrive/CurrentCorrectAvg.csv\"\n",
        "  with open(Filename) as csv_file:\n",
        "    count = 0\n",
        "    WaterData = []\n",
        "    EatingData = []\n",
        "    ActivityData = []\n",
        "    for line in csv.reader(csv_file, delimiter = \",\"):\n",
        "      if count == 0:\n",
        "        headers = line\n",
        "        #print(line)\n",
        "        count += 1\n",
        "      else: \n",
        "        WaterData.append(line[2])\n",
        "        EatingData.append(line[3])\n",
        "        ActivityData.append(line[4])\n",
        "    \n",
        "    Water, WaterRange = avgWaterConsumed(WaterData)\n",
        "    Eating, EatingRange = avgEatingTime(EatingData)\n",
        "    Activity, ActivityRange = avgActivity(ActivityData)\n",
        "\n",
        "\n",
        "  return Water , Eating , Activity\n",
        "\n",
        "\n",
        "\n",
        "\n",
        "LongTermFile = \"/content/drive/MyDrive/longTermData.csv\"\n",
        "\n",
        "with open(LongTermFile) as csv_file:\n",
        "  count = 0\n",
        "  WaterData = []\n",
        "  EatingData = []\n",
        "  ActivityData = []\n",
        "  for line in csv.reader(csv_file, delimiter = \",\"):\n",
        "    if count == 0:\n",
        "      headers = line\n",
        "      #print(line)\n",
        "      count += 1\n",
        "    else: \n",
        "      WaterData.append(line[2])\n",
        "      EatingData.append(line[3])\n",
        "      ActivityData.append(line[4])\n",
        "  \n",
        "  Water, WaterRange = avgWaterConsumed(WaterData)\n",
        "  Eating, EatingRange = avgEatingTime(EatingData)\n",
        "  Activity, ActivityRange = avgActivity(ActivityData)\n",
        "\n",
        "  CurrentWater , CurrentEating, CurrentActivity = CurrentData()\n",
        "  print(f\"Current amount of Water Consumed = {CurrentWater}\")\n",
        "  print(f\"Average amount of water Consumed in the past week = {Water}\")\n",
        "  print(f\"Current time spent eating = {CurrentEating}\")\n",
        "  print(f\"Average time spent eating in the past week = {Eating}\")\n",
        "  print(f\"Current measured Activity = {CurrentActivity}\")\n",
        "  print(f\"Average measured activity in the past week = {Activity}\")\n",
        "  #print((Water - (0.5*WaterRange)))\n",
        "  #print(WaterRange)\n",
        "\n",
        "  message1, message2, message3 = \"\", \"\", \"\"\n",
        "\n",
        "  if (CurrentWater < (Water + (0.5*WaterRange))) & (CurrentWater > (Water - (0.5*WaterRange))):\n",
        "    message1 = \"No Divergence for water consumption.\"\n",
        "  else:\n",
        "    message1 = \"Divergence for water consumption detected.\"\n",
        "\n",
        "  if (CurrentEating < (Eating + (0.5*EatingRange))) & (CurrentEating > (Eating - (0.5*EatingRange))):\n",
        "    message2 = \"No Divergence for eating time.\"\n",
        "  else:\n",
        "    message2 = \"Divergence for eting time detected.\"\n",
        "\n",
        "  if (CurrentActivity < (Activity + (0.5*ActivityRange))) & (CurrentActivity > (Activity - (0.5*ActivityRange))):\n",
        "    message3 = \"No Divergence for Activity.\"\n",
        "  else:\n",
        "    message3 = \"Divergence for activty detected.\"\n",
        "\n",
        "  print('\\n')\n",
        "  print(message1)\n",
        "  print(message2)\n",
        "  print(message3)\n",
        "\n",
        "  #print(Water, Eating, Activity)\n",
        "\n",
        "\n",
        "\n"
      ],
      "metadata": {
        "colab": {
          "base_uri": "https://localhost:8080/"
        },
        "id": "bpH2NRP7Gm5e",
        "outputId": "80f505f0-736a-4da1-be56-c6e4ebcf33ee"
      },
      "execution_count": 51,
      "outputs": [
        {
          "output_type": "stream",
          "name": "stdout",
          "text": [
            "Current amount of Water Consumed = 40.0\n",
            "Average amount of water Consumed in the past week = 40.285714285714285\n",
            "Current time spent eating = 10.0\n",
            "Average time spent eating in the past week = 10.714285714285714\n",
            "Current measured Activity = 96.0\n",
            "Average measured activity in the past week = 89.28571428571429\n",
            "\n",
            "\n",
            "No Divergence for water consumption.\n",
            "No Divergence for eating time.\n",
            "Divergence for activty detected.\n"
          ]
        }
      ]
    },
    {
      "cell_type": "code",
      "source": [
        ""
      ],
      "metadata": {
        "id": "ztk56RycLdn7"
      },
      "execution_count": null,
      "outputs": []
    }
  ]
}